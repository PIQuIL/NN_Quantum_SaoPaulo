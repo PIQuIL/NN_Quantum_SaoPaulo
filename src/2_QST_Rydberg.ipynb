{
 "cells": [
  {
   "cell_type": "markdown",
   "metadata": {},
   "source": [
    "# Quantum state tomography of Rydberg ground states"
   ]
  },
  {
   "cell_type": "code",
   "execution_count": 1,
   "metadata": {},
   "outputs": [],
   "source": [
    "import numpy as np\n",
    "import math as m\n",
    "import matplotlib.pyplot as plt\n",
    "from mpi4py import MPI\n",
    "import netket as nk\n",
    "import warnings\n",
    "warnings.filterwarnings('ignore')"
   ]
  },
  {
   "cell_type": "code",
   "execution_count": 2,
   "metadata": {},
   "outputs": [],
   "source": [
    "\"\"\" Generate the square lattice structures \"\"\"\n",
    "def buildlattice(Lx,Ly):\n",
    "    def coord_to_site(Ly,x,y):\n",
    "        return Ly*x+y\n",
    "    nn = []  \n",
    "    nnn = []\n",
    "    nnnn = []\n",
    "    for x in range(Lx):\n",
    "        for y in range(Ly-1):\n",
    "            nn.append([coord_to_site(Ly,x,y),coord_to_site(Ly,x,y+1)])\n",
    "    for y in range(Ly):\n",
    "        for x in range(Lx-1):\n",
    "            nn.append([coord_to_site(Ly,x,y),coord_to_site(Ly,x+1,y)])\n",
    "    \n",
    "    for y in range(Ly-1):\n",
    "        for x in range(Lx-1):\n",
    "            nnn.append([coord_to_site(Ly,x,y),coord_to_site(Ly,x+1,y+1)])\n",
    "            nnn.append([coord_to_site(Ly,x+1,y),coord_to_site(Ly,x,y+1)])\n",
    "    \n",
    "    for y in range(Ly):\n",
    "        for x in range(Lx-2):\n",
    "            nnnn.append([coord_to_site(Ly,x,y),coord_to_site(Ly,x+2,y)])\n",
    "    for y in range(Ly-2):\n",
    "        for x in range(Lx):\n",
    "            nnnn.append([coord_to_site(Ly,x,y),coord_to_site(Ly,x,y+2)])\n",
    "    return nn,nnn,nnnn"
   ]
  },
  {
   "cell_type": "code",
   "execution_count": 3,
   "metadata": {},
   "outputs": [],
   "source": [
    "def generatehamiltonian(hilbert,Lx,Ly,V,Omega,delta):\n",
    "    N = Lx * Ly\n",
    "    nn,nnn,nnnn = buildlattice(Lx,Ly)\n",
    "    P   = np.asarray([[0,0],[0,1]])\n",
    "    PP  = np.kron(P,P) \n",
    "    sx = np.asarray([[0,1],[1,0]])\n",
    "    \n",
    "    H = nk.operator.LocalOperator(hilbert)\n",
    "    # Transverse field \n",
    "    for j in range(N):\n",
    "        localop = -0.5 * Omega * sx\n",
    "        H += nk.operator.LocalOperator(hilbert,localop,[j])\n",
    "    # Chemical potential\n",
    "    for j in range(N):\n",
    "        localop = -delta * P\n",
    "        H += nk.operator.LocalOperator(hilbert,localop,[j])\n",
    "    \n",
    "    # NN interactions\n",
    "    for bond in nn:\n",
    "        localop = V * PP\n",
    "        H += nk.operator.LocalOperator(hilbert,localop,[bond[0],bond[1]])\n",
    "    for bond in nnn:\n",
    "        localop = (V/8.0) * PP\n",
    "        H += nk.operator.LocalOperator(hilbert,localop,[bond[0],bond[1]])\n",
    "    for bond in nnnn:\n",
    "        localop = (V/64.0) * PP\n",
    "        H += nk.operator.LocalOperator(hilbert,localop,[bond[0],bond[1]])\n",
    "\n",
    "    return H"
   ]
  },
  {
   "cell_type": "code",
   "execution_count": 4,
   "metadata": {},
   "outputs": [],
   "source": [
    "def LoadData(hilbert,path_to_samples):\n",
    "    training_samples = []\n",
    "    training_bases = []\n",
    "    training_samples = np.loadtxt(path_to_samples)\n",
    "\n",
    "    rotations = []\n",
    "    for i in range(len(training_samples)):\n",
    "        training_bases.append(0)\n",
    "        rotations.append(nk.operator.LocalOperator(hilbert, 1.0))\n",
    "\n",
    "    return tuple(rotations), np.asarray(training_samples), np.asarray(training_bases)"
   ]
  },
  {
   "cell_type": "code",
   "execution_count": 5,
   "metadata": {},
   "outputs": [
    {
     "name": "stdout",
     "output_type": "stream",
     "text": [
      "Running QST for delta = 1.0\n",
      "Epoch: 0  <H> = 1.84829682 | (DMRG = -0.45776822)\n",
      "Epoch: 100  <H> = -0.32111179 | (DMRG = -0.45776822)\n",
      "Epoch: 200  <H> = -0.36534478 | (DMRG = -0.45776822)\n",
      "Epoch: 300  <H> = -0.38362597 | (DMRG = -0.45776822)\n",
      "Epoch: 400  <H> = -0.40856511 | (DMRG = -0.45776822)\n",
      "Epoch: 500  <H> = -0.42492725 | (DMRG = -0.45776822)\n",
      "Epoch: 600  <H> = -0.43573942 | (DMRG = -0.45776822)\n",
      "Epoch: 700  <H> = -0.44134153 | (DMRG = -0.45776822)\n",
      "Epoch: 800  <H> = -0.44144990 | (DMRG = -0.45776822)\n",
      "Epoch: 900  <H> = -0.44545500 | (DMRG = -0.45776822)\n",
      "Epoch: 1000  <H> = -0.44735577 | (DMRG = -0.45776822)\n"
     ]
    }
   ],
   "source": [
    "Lx = 4\n",
    "Ly = 4\n",
    "N = Lx * Ly\n",
    "alpha = 1\n",
    "n_samples_rbm = 2000\n",
    "n_samples_data = 500\n",
    "epochs = 1000\n",
    "lr = 0.01\n",
    "V = 7.0\n",
    "Omega = 1.0\n",
    "delta = 1.0\n",
    "dmrg_energy = -0.45776822\n",
    "\n",
    "rbm_energy = []\n",
    "\n",
    "graph = nk.graph.Hypercube(length=Lx, n_dim=2,pbc=False)\n",
    "hilbert = nk.hilbert.Qubit(graph=graph)\n",
    "\n",
    "# Load the data\n",
    "dataName = \"../data/tomography/rydberg/data_rydberg_4x4_delta=\"\n",
    "dataName += str(delta)\n",
    "dataName += \".txt\"\n",
    "\n",
    "rotations, training_samples, training_bases = LoadData(hilbert,dataName)\n",
    "\n",
    "# Machine\n",
    "ma = nk.machine.RbmSpinReal(hilbert=hilbert, alpha=alpha)\n",
    "ma.init_random_parameters(seed=1234, sigma=0.01)\n",
    "\n",
    "# Sampler\n",
    "sa = nk.sampler.MetropolisLocal(machine=ma)    \n",
    "\n",
    "#op = nk.optimizer.AdaDelta(rho=0.95,epscut = 1.0e-7)\n",
    "op = nk.optimizer.RmsProp(learning_rate=lr,beta=0.9,epscut = 1.0e-6)\n",
    "\n",
    "# Quantum State Reconstruction\n",
    "qst = nk.Qsr(\n",
    "    sampler=sa,\n",
    "    optimizer=op,\n",
    "    n_samples_data=n_samples_data,\n",
    "    n_samples=n_samples_rbm,\n",
    "    rotations=rotations,\n",
    "    samples=training_samples,\n",
    "    bases=training_bases,\n",
    "    sr = None)\n",
    "\n",
    "H = generatehamiltonian(hilbert,Lx,Ly,V,Omega,float(delta)) \n",
    "qst.add_observable(H,\"H\")\n",
    "\n",
    "print(\"Running QST for delta =\",delta) \n",
    "for ep in qst.iter(epochs+1, 10):\n",
    "    obs = qst.get_observable_stats()\n",
    "    energy = (obs[\"H\"].mean.real)/float(N)\n",
    "    if (ep%100==0):\n",
    "        print(\"Epoch: %1d\" % (ep),end=\"  \")\n",
    "        print(\"<H> = %.8f\" % energy,end=\" | \")\n",
    "        print(\"(DMRG = %.8f)\" % dmrg_energy)\n",
    "    rbm_energy.append(energy)"
   ]
  },
  {
   "cell_type": "code",
   "execution_count": 13,
   "metadata": {},
   "outputs": [
    {
     "data": {
      "image/png": "[encoded data removed]",
      "text/plain": [
       "<Figure size 720x300 with 1 Axes>"
      ]
     },
     "metadata": {},
     "output_type": "display_data"
    }
   ],
   "source": [
    "fig = plt.figure(1,figsize=(6,2.5), dpi=120, facecolor='w', edgecolor='k')\n",
    "\n",
    "plt.plot(rbm_energy,marker='o',markersize=2,linewidth=0.0,label=\"RBM\")\n",
    "plt.hlines(dmrg_energy,0,epochs//10,linestyle=\"--\",label=\"DMRG\")\n",
    "plt.xticks([0,25,50,75,100],[0,250,500,750,1000],fontsize=12)\n",
    "plt.yticks(fontsize=12)\n",
    "\n",
    "plt.xlabel(\"Step\",fontsize=15)\n",
    "plt.ylabel(\"$\\\\langle H \\\\rangle$\",fontsize=20)\n",
    "plt.legend(loc=\"best\")\n",
    "\n",
    "plt.show()"
   ]
  }
 ],
 "metadata": {
  "kernelspec": {
   "display_name": "Python 3",
   "language": "python",
   "name": "python3"
  },
  "language_info": {
   "codemirror_mode": {
    "name": "ipython",
    "version": 3
   },
   "file_extension": ".py",
   "mimetype": "text/x-python",
   "name": "python",
   "nbconvert_exporter": "python",
   "pygments_lexer": "ipython3",
   "version": "3.8.3"
  }
 },
 "nbformat": 4,
 "nbformat_minor": 2
}
