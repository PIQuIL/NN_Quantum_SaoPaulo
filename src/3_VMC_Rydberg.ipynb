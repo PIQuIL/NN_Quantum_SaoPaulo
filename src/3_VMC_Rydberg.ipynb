{
 "cells": [
  {
   "cell_type": "markdown",
   "metadata": {},
   "source": [
    "# Variational Monte Carlo simulation of Rydberg atoms\n",
    "\n",
    "<br />\n",
    "\n",
    "In this notebook, we show an application of recurrent neural networks (RNN) to discover the ground state of a many-body Hamiltonian. The RNN is used to parametrize the wavefunction of the Rydberg atoms, and its parameters are trained by minimizing the total energy using variational Monte Carlo. The RNN wavefunction and the training routines are implemented in the file `vmc.py`."
   ]
  },
  {
   "cell_type": "markdown",
   "metadata": {},
   "source": [
    "### Importing Tensorflow, Numpy, and Matplotlib "
   ]
  },
  {
   "cell_type": "code",
   "execution_count": 1,
   "metadata": {},
   "outputs": [],
   "source": [
    "import numpy as np\n",
    "import tensorflow as tf\n",
    "import matplotlib.pyplot as plt"
   ]
  },
  {
   "cell_type": "markdown",
   "metadata": {},
   "source": [
    "### RNN wavefunction"
   ]
  },
  {
   "cell_type": "code",
   "execution_count": 2,
   "metadata": {},
   "outputs": [],
   "source": [
    "class VariationalMonteCarlo(tf.keras.Model):\n",
    "\n",
    "    # Constructor\n",
    "    def __init__(self, Lx, Ly, \n",
    "                 V, Omega, delta,\n",
    "                 num_hidden, learning_rate,\n",
    "                 epochs, seed=1234):\n",
    "        \n",
    "        super(VariationalMonteCarlo, self).__init__()\n",
    "\n",
    "        \"\"\" PARAMETERS \"\"\"\n",
    "        self.Lx       = Lx              # Size along x\n",
    "        self.Ly       = Ly              # Size along y\n",
    "        self.V        = V               # Van der Waals potential\n",
    "        self.Omega    = Omega           # Rabi frequency\n",
    "        self.delta    = delta           # Detuning\n",
    "\n",
    "        self.N        = Lx * Ly         # Number of spins\n",
    "        self.nh       = num_hidden      # Number of hidden units in the RNN\n",
    "        self.seed     = seed            # Seed of random number generator\n",
    "        self.epochs   = epochs          # Training epochs \n",
    "        self.K        = 2               # Dimension of the local Hilbert space\n",
    "\n",
    "        # Set the seed of the rng\n",
    "        tf.random.set_seed(self.seed)\n",
    "\n",
    "        # Optimizer\n",
    "        self.optimizer = tf.optimizers.Adam(learning_rate, epsilon=1e-8)\n",
    "\n",
    "        # Build the model RNN\n",
    "        # RNN layer: N -> nh\n",
    "        self.rnn = tf.keras.layers.GRU(self.nh, kernel_initializer='glorot_uniform',\n",
    "                                       kernel_regularizer = tf.keras.regularizers.l2(0.001),\n",
    "                                       return_sequences = True,\n",
    "                                       return_state = True,\n",
    "                                       stateful = False)\n",
    "\n",
    "        # Dense layer: nh - > K\n",
    "        self.dense = tf.keras.layers.Dense(self.K, activation = tf.nn.softmax,\n",
    "                                           kernel_regularizer = tf.keras.regularizers.l2(0.001))\n",
    "\n",
    "        # Generate the list of bonds for NN,NNN,NNNN on a \n",
    "        # square lattice with open boundaries\n",
    "        self.buildlattice()\n",
    "    \n",
    "    @tf.function\n",
    "    def sample(self,nsamples):\n",
    "        # Zero initialization for visible and hidden state \n",
    "        inputs = 0.0*tf.one_hot(tf.zeros(shape=[nsamples,1],dtype=tf.int32),depth=self.K)\n",
    "        hidden_state = tf.zeros(shape=[nsamples,self.nh])\n",
    "\n",
    "        logP = tf.zeros(shape=[nsamples,],dtype=tf.float32)\n",
    "\n",
    "        for j in range(self.N):\n",
    "            # Run a single RNN cell\n",
    "            rnn_output,hidden_state = self.rnn(inputs,initial_state=hidden_state)\n",
    "            # Compute log probabilities\n",
    "            probs = self.dense(rnn_output)\n",
    "            log_probs = tf.reshape(tf.math.log(1e-10+probs),[nsamples,self.K])\n",
    "            # Sample\n",
    "            sample = tf.random.categorical(log_probs,num_samples=1)\n",
    "            if (j == 0):\n",
    "                samples = tf.identity(sample)\n",
    "            else:\n",
    "                samples = tf.concat([samples,sample],axis=1)\n",
    "            # Feed result to the next cell\n",
    "            inputs = tf.one_hot(sample,depth=self.K)\n",
    "            add = tf.reduce_sum(log_probs*tf.reshape(inputs,(nsamples,self.K)),axis=1)\n",
    "\n",
    "            logP = logP+tf.reduce_sum(log_probs*tf.reshape(inputs,(nsamples,self.K)),axis=1)\n",
    "\n",
    "        return samples,logP\n",
    "\n",
    "    @tf.function\n",
    "    def logpsi(self,samples):\n",
    "        # Shift data\n",
    "        num_samples = tf.shape(samples)[0]\n",
    "        data   = tf.one_hot(samples[:,0:self.N-1],depth=self.K)\n",
    "\n",
    "        x0 = 0.0*tf.one_hot(tf.zeros(shape=[num_samples,1],dtype=tf.int32),depth=self.K)\n",
    "        inputs = tf.concat([x0,data],axis=1)\n",
    "\n",
    "        hidden_state = tf.zeros(shape=[num_samples,self.nh])\n",
    "        rnn_output,_ = self.rnn(inputs,initial_state = hidden_state)\n",
    "        probs        = self.dense(rnn_output)\n",
    "\n",
    "        log_probs   = tf.reduce_sum(tf.multiply(tf.math.log(1e-10+probs),tf.one_hot(samples,depth=self.K)),axis=2)\n",
    "\n",
    "        return 0.5*tf.reduce_sum(log_probs,axis=1)\n",
    "\n",
    "    #@tf.function\n",
    "    def localenergy(self,samples,logpsi):\n",
    "        eloc = tf.zeros(shape=[tf.shape(samples)[0]],dtype=tf.float32)\n",
    "\n",
    "        # Chemical potential\n",
    "        for j in range(self.N):\n",
    "            eloc += - self.delta * tf.cast(samples[:,j],tf.float32)\n",
    "        # NN\n",
    "        for n in range(len(self.nn)):\n",
    "            eloc += self.V * tf.cast(samples[:,self.nn[n][0]]*samples[:,self.nn[n][1]],tf.float32)\n",
    "        for n in range(len(self.nnn)):\n",
    "            eloc += (self.V/8.0) * tf.cast(samples[:,self.nnn[n][0]]*samples[:,self.nnn[n][1]],tf.float32)\n",
    "        for n in range(len(self.nnnn)):\n",
    "            eloc += (self.V/64.0) * tf.cast(samples[:,self.nnnn[n][0]]*samples[:,self.nnnn[n][1]],tf.float32)\n",
    "\n",
    "        # Off-diagonal part\n",
    "        for j in range(self.N):\n",
    "            flip_samples = np.copy(samples)\n",
    "            flip_samples[:,j] = 1 - flip_samples[:,j]\n",
    "            flip_logpsi = self.logpsi(flip_samples)\n",
    "            eloc += -0.5*self.Omega * tf.math.exp(flip_logpsi-logpsi)\n",
    "\n",
    "        return eloc\n",
    "\n",
    "    \"\"\" Generate the square lattice structures \"\"\"\n",
    "    def coord_to_site(self,x,y):\n",
    "        return self.Ly*x+y\n",
    "    \n",
    "    def buildlattice(self):\n",
    "        self.nn = []\n",
    "        self.nnn = []\n",
    "        self.nnnn = []\n",
    "        for x in range(self.Lx):\n",
    "            for y in range(self.Ly-1):\n",
    "                self.nn.append([self.coord_to_site(x,y),self.coord_to_site(x,y+1)])\n",
    "        for y in range(self.Ly):\n",
    "            for x in range(self.Lx-1):\n",
    "                self.nn.append([self.coord_to_site(x,y),self.coord_to_site(x+1,y)])\n",
    "\n",
    "        for y in range(self.Ly-1):\n",
    "            for x in range(self.Lx-1):\n",
    "                self.nnn.append([self.coord_to_site(x,y),self.coord_to_site(x+1,y+1)])\n",
    "                self.nnn.append([self.coord_to_site(x+1,y),self.coord_to_site(x,y+1)])\n",
    "\n",
    "        for y in range(self.Ly):\n",
    "            for x in range(self.Lx-2):\n",
    "                self.nnnn.append([self.coord_to_site(x,y),self.coord_to_site(x+2,y)])\n",
    "        for y in range(self.Ly-2):\n",
    "            for x in range(self.Lx):\n",
    "                self.nnnn.append([self.coord_to_site(x,y),self.coord_to_site(x,y+2)])\n"
   ]
  },
  {
   "cell_type": "markdown",
   "metadata": {},
   "source": [
    "### Define parameters"
   ]
  },
  {
   "cell_type": "code",
   "execution_count": 3,
   "metadata": {},
   "outputs": [],
   "source": [
    "# Hamiltonian parameters\n",
    "Lx = 4      # Linear size in x direction\n",
    "Ly = 4      # Linear size in y direction\n",
    "N = Lx*Ly   # Total number of atoms\n",
    "V = 7.0     # Strength of Van der Waals interaction\n",
    "Omega = 1.0 # Rabi frequency\n",
    "delta = 1.0 # Detuning \n",
    "\n",
    "# RNN-VMC parameters\n",
    "lr = 0.001     # learning rate of Adam optimizer\n",
    "nh = 32        # Number of hidden units in the GRU cell\n",
    "ns = 500       # Number of samples used to approximate the energy at each step\n",
    "epochs = 1000  # Training iterations\n",
    "seed = 1234    # Seed of RNG\n",
    "\n",
    "# Exact energy from exact diagonalization\n",
    "exact_energy = -0.45776822"
   ]
  },
  {
   "cell_type": "code",
   "execution_count": 4,
   "metadata": {},
   "outputs": [
    {
     "name": "stdout",
     "output_type": "stream",
     "text": [
      "Running VMC for delta = 1.0\n"
     ]
    }
   ],
   "source": [
    "print(\"Running VMC for delta =\",delta)\n",
    "vmc = VariationalMonteCarlo(Lx,Ly,V,Omega,delta,nh,lr,epochs,seed)\n",
    "energy = []\n",
    "variance = []\n",
    "for n in range(1,epochs+1):\n",
    "    samples, _ = vmc.sample(ns)\n",
    "    \n",
    "    # Evaluate the loss function in AD mode\n",
    "    with tf.GradientTape() as tape:\n",
    "        logpsi = vmc.logpsi(samples)\n",
    "        with tape.stop_recording():\n",
    "            eloc = vmc.localenergy(samples, logpsi)\n",
    "            Eo = tf.reduce_mean(eloc)\n",
    "\n",
    "        loss = tf.reduce_mean(2.0*tf.multiply(logpsi, tf.stop_gradient(eloc)) - 2.0*tf.stop_gradient(Eo)*logpsi)\n",
    "    \n",
    "    # Compute the gradients\n",
    "    gradients = tape.gradient(loss, vmc.trainable_variables)\n",
    "    \n",
    "    # Update the parameters\n",
    "    vmc.optimizer.apply_gradients(zip(gradients, vmc.trainable_variables))    \n",
    "    \n",
    "    energies = eloc.numpy()\n",
    "    avg_E = np.mean(energies)/float(N)\n",
    "    var_E = np.var(energies)/float(N)\n",
    "    energy.append(avg_E)"
   ]
  },
  {
   "cell_type": "code",
   "execution_count": 5,
   "metadata": {},
   "outputs": [
    {
     "data": {
      "image/png": "[encoded data removed]",
      "text/plain": [
       "<Figure size 720x300 with 1 Axes>"
      ]
     },
     "metadata": {},
     "output_type": "display_data"
    }
   ],
   "source": [
    "fig = plt.figure(1,figsize=(6,2.5), dpi=120, facecolor='w', edgecolor='k')\n",
    "\n",
    "plt.plot(energy,marker='o',markersize=2,linewidth=0.0,markevery=5,label=\"RNN\")\n",
    "plt.hlines(exact_energy,0,1000,linestyle=\"--\",label=\"Exact\")\n",
    "\n",
    "plt.xlabel(\"Step\",fontsize=15)\n",
    "plt.ylabel(\"$\\\\langle H \\\\rangle$\",fontsize=20)\n",
    "plt.legend(loc=\"best\")\n",
    "\n",
    "plt.show()"
   ]
  },
  {
   "cell_type": "code",
   "execution_count": null,
   "metadata": {},
   "outputs": [],
   "source": []
  }
 ],
 "metadata": {
  "kernelspec": {
   "display_name": "Python 3",
   "language": "python",
   "name": "python3"
  },
  "language_info": {
   "codemirror_mode": {
    "name": "ipython",
    "version": 3
   },
   "file_extension": ".py",
   "mimetype": "text/x-python",
   "name": "python",
   "nbconvert_exporter": "python",
   "pygments_lexer": "ipython3",
   "version": "3.11.9"
  }
 },
 "nbformat": 4,
 "nbformat_minor": 2
}
